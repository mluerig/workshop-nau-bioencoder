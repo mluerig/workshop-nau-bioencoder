{
 "cells": [
  {
   "cell_type": "code",
   "execution_count": 1,
   "id": "eec639f8",
   "metadata": {},
   "outputs": [],
   "source": [
    "import os\n",
    "import bioencoder\n"
   ]
  },
  {
   "cell_type": "code",
   "execution_count": 2,
   "id": "8ba0e17d",
   "metadata": {},
   "outputs": [],
   "source": [
    "# os.chdir(r\"D:\\git-repos\\mluerig\\workshop-nau-bioencoder\")\n",
    "os.chdir(r\"/home/mlurig/git-repos/workshop-nau-bioencoder\")"
   ]
  },
  {
   "cell_type": "code",
   "execution_count": 3,
   "id": "23bb0bf9",
   "metadata": {},
   "outputs": [
    {
     "name": "stdout",
     "output_type": "stream",
     "text": [
      "found root_dir: bioencoder_wd\n",
      "Given your Python WD (/home/mlurig/git-repos/workshop-nau-bioencoder), the current BioEncoder run directory will be:\n",
      "- /home/mlurig/git-repos/workshop-nau-bioencoder/bioencoder_wd/v1\n"
     ]
    }
   ],
   "source": [
    "bioencoder.configure(root_dir=r\"bioencoder_wd\", run_name=\"v1\", create=True)"
   ]
  },
  {
   "cell_type": "code",
   "execution_count": null,
   "id": "47324993",
   "metadata": {},
   "outputs": [],
   "source": [
    "bioencoder.split_dataset(image_dir=\"data_raw/junonia/junonia_dorsal\", max_ratio=10, random_seed=42) # , overwrite=True"
   ]
  },
  {
   "cell_type": "code",
   "execution_count": null,
   "id": "6600fc1f",
   "metadata": {},
   "outputs": [],
   "source": [
    "bioencoder.train(root_dir=r\"bioencoder_wd\", run_name=\"v1\", config_path=r\"configs/train_stage1.yml\") # , overwrite=True"
   ]
  },
  {
   "cell_type": "code",
   "execution_count": null,
   "id": "cc8f1ddd",
   "metadata": {},
   "outputs": [],
   "source": [
    "bioencoder.swa(config_path=r\"configs/swa_stage1.yml\")"
   ]
  },
  {
   "cell_type": "code",
   "execution_count": 5,
   "id": "ddcd2c3f",
   "metadata": {},
   "outputs": [
    {
     "name": "stdout",
     "output_type": "stream",
     "text": [
      "Checkpoint: using swa of first stage\n",
      "tSNE: using perplexity 30 and random state 42\n",
      "tSNE: using perplexity 30 and random state 42\n"
     ]
    }
   ],
   "source": [
    "bioencoder.interactive_plots(config_path=r\"configs/plot_stage1.yml\", overwrite=True)"
   ]
  },
  {
   "cell_type": "code",
   "execution_count": null,
   "id": "36cc69e0",
   "metadata": {},
   "outputs": [],
   "source": [
    "bioencoder.train(root_dir=r\"bioencoder_wd\", run_name=\"v1\", config_path=r\"configs/train_stage2.yml\", overwrite=True)"
   ]
  },
  {
   "cell_type": "code",
   "execution_count": null,
   "id": "6b0e0de7",
   "metadata": {},
   "outputs": [],
   "source": [
    "bioencoder.swa(config_path=r\"configs/swa_stage2.yml\")"
   ]
  },
  {
   "cell_type": "code",
   "execution_count": null,
   "id": "ca4c2b8d",
   "metadata": {},
   "outputs": [],
   "source": [
    "bioencoder.model_explorer(config_path=r\"configs/explore_stage2.yml\")"
   ]
  },
  {
   "cell_type": "code",
   "execution_count": null,
   "id": "31c9c733",
   "metadata": {},
   "outputs": [],
   "source": []
  }
 ],
 "metadata": {
  "kernelspec": {
   "display_name": "bioencoder-env",
   "language": "python",
   "name": "python3"
  },
  "language_info": {
   "codemirror_mode": {
    "name": "ipython",
    "version": 3
   },
   "file_extension": ".py",
   "mimetype": "text/x-python",
   "name": "python",
   "nbconvert_exporter": "python",
   "pygments_lexer": "ipython3",
   "version": "3.11.14"
  }
 },
 "nbformat": 4,
 "nbformat_minor": 5
}
